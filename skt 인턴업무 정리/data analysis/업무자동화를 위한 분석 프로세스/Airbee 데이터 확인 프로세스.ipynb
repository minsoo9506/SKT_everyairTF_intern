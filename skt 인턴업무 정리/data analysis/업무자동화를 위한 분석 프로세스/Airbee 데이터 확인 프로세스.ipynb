{
 "cells": [
  {
   "cell_type": "markdown",
   "metadata": {},
   "source": [
    "# Airbee data checking\n",
    "- daily 데이터를 확인하는 프로세스"
   ]
  },
  {
   "cell_type": "code",
   "execution_count": 1,
   "metadata": {},
   "outputs": [],
   "source": [
    "import pandas as pd\n",
    "import numpy as np\n",
    "import matplotlib.pyplot as plt\n",
    "import seaborn as sns\n",
    "import matplotlib.font_manager as fm\n",
    "\n",
    "%matplotlib inline \n",
    "%config InlineBackend.figure_format = 'retina' \n",
    "\n",
    "sns.set_style(style='white')\n",
    "sns.set_context(context ='paper')\n",
    "\n",
    "pd.set_option('max_columns',50)\n",
    "pd.set_option('max_rows',500)\n",
    "\n",
    "font_path = 'NanumSquareRoundR.ttf'\n",
    "fontprop = fm.FontProperties(fname=font_path, size = 15)\n",
    "\n",
    "pd.set_option('display.max_columns',999)\n",
    "pd.set_option('display.max_rows',999)"
   ]
  },
  {
   "cell_type": "markdown",
   "metadata": {},
   "source": [
    "### 실외 데이터 업로드"
   ]
  },
  {
   "cell_type": "code",
   "execution_count": 2,
   "metadata": {},
   "outputs": [],
   "source": [
    "out1022 = pd.read_csv('day22_out.csv', encoding = 'euc-kr')\n",
    "out1105 = pd.read_csv('day1105.csv',encoding = 'CP949')"
   ]
  },
  {
   "cell_type": "markdown",
   "metadata": {},
   "source": [
    "### 야쿠르트, T-world 매장 데이터 업로드"
   ]
  },
  {
   "cell_type": "code",
   "execution_count": 3,
   "metadata": {},
   "outputs": [],
   "source": [
    "tworld_data = pd.read_csv('tworld.csv')\n",
    "tworld_location = pd.read_csv('tworld_location.csv', encoding = 'euc-kr')\n",
    "yakult_data= pd.read_csv('yakult.csv')\n",
    "yakult_location= pd.read_csv('yakult_location.csv',encoding = 'euc-kr')"
   ]
  },
  {
   "cell_type": "markdown",
   "metadata": {},
   "source": [
    "### 실외데이터 전처리"
   ]
  },
  {
   "cell_type": "code",
   "execution_count": 4,
   "metadata": {},
   "outputs": [],
   "source": [
    "# xtick 그리기\n",
    "xtick = list()\n",
    "\n",
    "for i in range(24):\n",
    "    xtick.append(str(i+1))"
   ]
  },
  {
   "cell_type": "code",
   "execution_count": 5,
   "metadata": {},
   "outputs": [],
   "source": [
    "def preprocessing_1(out):\n",
    "    \n",
    "    out.columns = ['SENSOR_ID', 'MEASURE_DTTM', 'LAT',\n",
    "               'LON', 'TOTAL_ADDR', 'PM1',\n",
    "               'PM2', 'PM10', 'TEMPER',\n",
    "               'HUMI', 'TVOC', 'CO2',\n",
    "               'FORMALDEHYDE', 'BATTERY_INFO', 'SPEED',\n",
    "               'ILLUMINATION', 'ACCELERATE', 'USE_YN']   \n",
    "    out.dropna(subset = ['TOTAL_ADDR','PM2'], inplace = True)\n",
    "    out.reset_index(drop = True, inplace = True)\n",
    "    \n",
    "    def year(x):\n",
    "        return int(x.split(' ')[0].split('-')[0])\n",
    "        \n",
    "    out['PARTITION_YEAR'] = out.MEASURE_DTTM.map(year)\n",
    "\n",
    "    def month(x):\n",
    "        return int(x.split(' ')[0].split('-')[1])\n",
    "        \n",
    "    out['PARTITION_MONTH'] = out.MEASURE_DTTM.map(month)\n",
    "\n",
    "    def day(x):\n",
    "        return int(x.split(' ')[0].split('-')[2])\n",
    "        \n",
    "    out['PARTITION_DAY'] = out.MEASURE_DTTM.map(day)\n",
    "    \n",
    "    def region_1(x):\n",
    "        return x.split(' ')[0]\n",
    "    \n",
    "    out['CITY'] = out.TOTAL_ADDR.map(region_1)\n",
    "    \n",
    "    def region_2(x):\n",
    "        return x.split(' ')[1]\n",
    "    \n",
    "    out['GUNGU'] = out.TOTAL_ADDR.map(region_2)\n",
    "    \n",
    "    out = out.reset_index(drop = True)"
   ]
  },
  {
   "cell_type": "code",
   "execution_count": 6,
   "metadata": {},
   "outputs": [],
   "source": [
    "preprocessing_1(out1022)"
   ]
  },
  {
   "cell_type": "code",
   "execution_count": 7,
   "metadata": {},
   "outputs": [],
   "source": [
    "def preprocessing_2(out):\n",
    "    def year(x):\n",
    "        return int('20' + x.split(' ')[0].split('/')[0])\n",
    "    out['PARTITION_YEAR'] = out.MEASURE_DTTM.map(year)\n",
    "    \n",
    "    def month(x):\n",
    "        return int(x.split(' ')[0].split('/')[1])\n",
    "    out['PARTITION_MONTH'] = out.MEASURE_DTTM.map(month)\n",
    "    \n",
    "    def day(x):\n",
    "        return int(x.split(' ')[0].split('/')[2])\n",
    "    out['PARTITION_DAY'] = out.MEASURE_DTTM.map(day)"
   ]
  },
  {
   "cell_type": "code",
   "execution_count": 8,
   "metadata": {},
   "outputs": [],
   "source": [
    "preprocessing_2(out1105)"
   ]
  },
  {
   "cell_type": "code",
   "execution_count": 9,
   "metadata": {
    "scrolled": true
   },
   "outputs": [
    {
     "data": {
      "text/html": [
       "<div>\n",
       "<style>\n",
       "    .dataframe thead tr:only-child th {\n",
       "        text-align: right;\n",
       "    }\n",
       "\n",
       "    .dataframe thead th {\n",
       "        text-align: left;\n",
       "    }\n",
       "\n",
       "    .dataframe tbody tr th {\n",
       "        vertical-align: top;\n",
       "    }\n",
       "</style>\n",
       "<table border=\"1\" class=\"dataframe\">\n",
       "  <thead>\n",
       "    <tr style=\"text-align: right;\">\n",
       "      <th></th>\n",
       "      <th>SENSOR_ID</th>\n",
       "      <th>MEASURE_DTTM</th>\n",
       "      <th>PARTITION_HOUR</th>\n",
       "      <th>USER_UNIQUE_KEY</th>\n",
       "      <th>INPUT_TYPE</th>\n",
       "      <th>CONNECT_TYPE</th>\n",
       "      <th>PARTNER_YN</th>\n",
       "      <th>LAT</th>\n",
       "      <th>LON</th>\n",
       "      <th>LEGAL_DONG_CD</th>\n",
       "      <th>TOTAL_ADDR</th>\n",
       "      <th>CITY</th>\n",
       "      <th>GUNGU</th>\n",
       "      <th>DONG</th>\n",
       "      <th>BUNJI</th>\n",
       "      <th>DETAIL_ADDR</th>\n",
       "      <th>BUILDING_NM</th>\n",
       "      <th>SHOP_NM</th>\n",
       "      <th>PM1</th>\n",
       "      <th>PM2</th>\n",
       "      <th>PM10</th>\n",
       "      <th>TEMPER</th>\n",
       "      <th>HUMI</th>\n",
       "      <th>TVOC</th>\n",
       "      <th>CO2</th>\n",
       "      <th>FORMALDEHYDE</th>\n",
       "      <th>BATTERY_INFO</th>\n",
       "      <th>SPEED</th>\n",
       "      <th>BUILDING_SEQ</th>\n",
       "      <th>ROAD_NM</th>\n",
       "      <th>ROAD_NM_TOTAL_ADDR</th>\n",
       "      <th>PARTNER_SEQ</th>\n",
       "      <th>ILLUMINATION</th>\n",
       "      <th>ACCELERATE</th>\n",
       "      <th>USE_YN</th>\n",
       "      <th>REG_DTTM</th>\n",
       "      <th>MOD_DTTM</th>\n",
       "      <th>GEOM</th>\n",
       "      <th>PARTITION_YEAR</th>\n",
       "      <th>PARTITION_MONTH</th>\n",
       "      <th>PARTITION_DAY</th>\n",
       "    </tr>\n",
       "  </thead>\n",
       "  <tbody>\n",
       "    <tr>\n",
       "      <th>0</th>\n",
       "      <td>A4C1385C6BCD</td>\n",
       "      <td>00/10/17 14:19:00.000000000</td>\n",
       "      <td>14</td>\n",
       "      <td>2672ebc251374e8a91bb38a4434ef0c8</td>\n",
       "      <td>100</td>\n",
       "      <td>200</td>\n",
       "      <td>N</td>\n",
       "      <td>37.511239</td>\n",
       "      <td>127.085383</td>\n",
       "      <td>1.171010e+09</td>\n",
       "      <td>서울특별시 송파구 잠실동 184-8</td>\n",
       "      <td>서울특별시</td>\n",
       "      <td>송파구</td>\n",
       "      <td>잠실동</td>\n",
       "      <td>184-8</td>\n",
       "      <td>NaN</td>\n",
       "      <td>NaN</td>\n",
       "      <td>NaN</td>\n",
       "      <td>14</td>\n",
       "      <td>32</td>\n",
       "      <td>41</td>\n",
       "      <td>16</td>\n",
       "      <td>28</td>\n",
       "      <td>NaN</td>\n",
       "      <td>NaN</td>\n",
       "      <td>NaN</td>\n",
       "      <td>100</td>\n",
       "      <td>2</td>\n",
       "      <td>NaN</td>\n",
       "      <td>올림픽로</td>\n",
       "      <td>서울특별시 송파구 올림픽로 132</td>\n",
       "      <td>NaN</td>\n",
       "      <td>11</td>\n",
       "      <td>1</td>\n",
       "      <td>Y</td>\n",
       "      <td>18/10/17 14:19:17.000000000</td>\n",
       "      <td>18/10/17 14:19:17.000000000</td>\n",
       "      <td>MDSYS.SDO_GEOMETRY(2001, 8307, MDSYS.SDO_POINT...</td>\n",
       "      <td>2000</td>\n",
       "      <td>10</td>\n",
       "      <td>17</td>\n",
       "    </tr>\n",
       "  </tbody>\n",
       "</table>\n",
       "</div>"
      ],
      "text/plain": [
       "      SENSOR_ID                 MEASURE_DTTM  PARTITION_HOUR  \\\n",
       "0  A4C1385C6BCD  00/10/17 14:19:00.000000000              14   \n",
       "\n",
       "                    USER_UNIQUE_KEY  INPUT_TYPE  CONNECT_TYPE PARTNER_YN  \\\n",
       "0  2672ebc251374e8a91bb38a4434ef0c8         100           200          N   \n",
       "\n",
       "         LAT         LON  LEGAL_DONG_CD           TOTAL_ADDR   CITY GUNGU  \\\n",
       "0  37.511239  127.085383   1.171010e+09  서울특별시 송파구 잠실동 184-8  서울특별시   송파구   \n",
       "\n",
       "  DONG  BUNJI  DETAIL_ADDR BUILDING_NM  SHOP_NM  PM1  PM2  PM10  TEMPER  HUMI  \\\n",
       "0  잠실동  184-8          NaN         NaN      NaN   14   32    41      16    28   \n",
       "\n",
       "   TVOC  CO2  FORMALDEHYDE  BATTERY_INFO  SPEED  BUILDING_SEQ ROAD_NM  \\\n",
       "0   NaN  NaN           NaN           100      2           NaN    올림픽로   \n",
       "\n",
       "   ROAD_NM_TOTAL_ADDR  PARTNER_SEQ  ILLUMINATION  ACCELERATE USE_YN  \\\n",
       "0  서울특별시 송파구 올림픽로 132          NaN            11           1      Y   \n",
       "\n",
       "                      REG_DTTM                     MOD_DTTM  \\\n",
       "0  18/10/17 14:19:17.000000000  18/10/17 14:19:17.000000000   \n",
       "\n",
       "                                                GEOM  PARTITION_YEAR  \\\n",
       "0  MDSYS.SDO_GEOMETRY(2001, 8307, MDSYS.SDO_POINT...            2000   \n",
       "\n",
       "   PARTITION_MONTH  PARTITION_DAY  \n",
       "0               10             17  "
      ]
     },
     "execution_count": 9,
     "metadata": {},
     "output_type": "execute_result"
    }
   ],
   "source": [
    "out1105.head(1)"
   ]
  },
  {
   "cell_type": "markdown",
   "metadata": {},
   "source": [
    "### 야쿠르트, T-world 매장 데이터 전처리"
   ]
  },
  {
   "cell_type": "code",
   "execution_count": 10,
   "metadata": {},
   "outputs": [],
   "source": [
    "yakult = pd.merge(yakult_location, yakult_data, how = 'left')"
   ]
  },
  {
   "cell_type": "code",
   "execution_count": 11,
   "metadata": {},
   "outputs": [],
   "source": [
    "tworld = pd.merge(tworld_data, tworld_location, how='inner')"
   ]
  },
  {
   "cell_type": "markdown",
   "metadata": {},
   "source": [
    "### 제휴사\n",
    "- PARTNER_SEQ 에서 61이 t-world, 41이 야쿠르트"
   ]
  },
  {
   "cell_type": "markdown",
   "metadata": {},
   "source": [
    "### 함수"
   ]
  },
  {
   "cell_type": "code",
   "execution_count": 12,
   "metadata": {},
   "outputs": [],
   "source": [
    "# tworld 매장 이상 수치\n",
    "def tworld_toomuch_PM2(out, year, month, day, region, limit,number):\n",
    "    tworld_temp = out[lambda x : (x.PARTNER_SEQ==61)& (x.CITY==region)& (x.PM2 > limit) & (x.PARTITION_DAY == day) &(x.PARTITION_MONTH == month)&(x.PARTITION_YEAR == year)]\n",
    "    tworld_temp_merge = pd.merge(tworld_temp,tworld, how='left', on='SENSOR_ID')\n",
    "    count = tworld_temp_merge.매장명.value_counts()\n",
    "    df = pd.DataFrame(count)\n",
    "    df.columns = ['데이터수']\n",
    "    df = df[df.데이터수 > number]\n",
    "    return df.index"
   ]
  },
  {
   "cell_type": "code",
   "execution_count": 13,
   "metadata": {},
   "outputs": [],
   "source": [
    "# 시도별 지역 보기\n",
    "def city(out):\n",
    "    return out.CITY.unique()"
   ]
  },
  {
   "cell_type": "code",
   "execution_count": 14,
   "metadata": {},
   "outputs": [],
   "source": [
    "# tworld 데이터 갯수\n",
    "def daily_tworld_data_count(out,year,month,day,region):\n",
    "    out_temp = out[lambda x : (x.PARTNER_SEQ==61)&(x.PARTITION_YEAR==year)&(x.PARTITION_MONTH==month)&(x.PARTITION_DAY==day)&(x.CITY==region)]\n",
    "    temp_tworld = pd.merge(out_temp, tworld, how ='outer')\n",
    "    count = temp_tworld.매장명.value_counts()\n",
    "    df = pd.DataFrame(count)\n",
    "    df.columns = ['데이터수']\n",
    "    def zero(x):\n",
    "        if x == 1:\n",
    "            return 0\n",
    "        else:\n",
    "            return x\n",
    "    df['데이터수'] = df['데이터수'].map(zero)\n",
    "    return df[df.데이터수 < 144]"
   ]
  },
  {
   "cell_type": "code",
   "execution_count": 15,
   "metadata": {},
   "outputs": [],
   "source": [
    "# 지점별 코코 한대 당 데이터 갯수\n",
    "def daily_yakult_data_count_average(data,year,month,day,store):\n",
    "    data = data[lambda x : (x.PARTITION_YEAR==year) & (x.PARTITION_MONTH==month) & (x.PARTITION_DAY==day)]\n",
    "    temp_df = pd.merge(yakult, data, how='right')\n",
    "    temp = temp_df[lambda x: x.지점 == store].영업점.value_counts()/yakult[lambda x: x.지점 == store].영업점.value_counts()\n",
    "    plt.figure(figsize = (15,6))\n",
    "    a = (temp).plot.bar(color='0.5')\n",
    "\n",
    "    sns.despine()\n",
    "    plt.tick_params(labelsize=15) \n",
    "    a.set_ylabel('갯수',fontproperties=fontprop)\n",
    "    a.set_xlabel('영업점',fontproperties=fontprop)\n",
    "    a.set_xticklabels(temp.index,fontproperties=fontprop)\n",
    "    a.axhline(np.mean(temp),color = 'g')\n",
    "    plt.text(len(temp),np.mean(temp),'전체평균',fontproperties=fontprop)\n",
    "    plt.title('지점별 코코 1대당 {}년 {}월 {}일 데이터 갯수 (평균)'.format(year,month,day),fontproperties=fontprop,fontsize=20)\n",
    "    plt.grid(False)\n",
    "    plt.show()"
   ]
  },
  {
   "cell_type": "code",
   "execution_count": 16,
   "metadata": {},
   "outputs": [],
   "source": [
    "def store():\n",
    "    return yakult.지점.unique()"
   ]
  },
  {
   "cell_type": "code",
   "execution_count": 17,
   "metadata": {},
   "outputs": [],
   "source": [
    "# 지점별\n",
    "def daily_yakult_data_count_airbee1(data,year,month,day,store):\n",
    "    data = data[lambda x : (x.PARTITION_YEAR==year) & (x.PARTITION_MONTH==month) & (x.PARTITION_DAY==day)]\n",
    "    temp_df = pd.merge(yakult, data, how='outer')\n",
    "    temp_df = temp_df[lambda x : x.지점 == store]\n",
    "    temp = temp_df.groupby(['영업점','이름'])['ID'].count()\n",
    "    df = pd.DataFrame(temp)\n",
    "    df.columns = ['데이터수']\n",
    "    def zero(x):\n",
    "        if x == 1:\n",
    "            return 0\n",
    "        else:\n",
    "            return x\n",
    "    df['데이터수'] = df['데이터수'].map(zero)\n",
    "    return df"
   ]
  },
  {
   "cell_type": "code",
   "execution_count": 18,
   "metadata": {},
   "outputs": [],
   "source": [
    "def daily_yakult_data_count_airbee2(data,year,month,day,store1,store2):\n",
    "    data = data[lambda x : (x.PARTITION_YEAR==year) & (x.PARTITION_MONTH==month) & (x.PARTITION_DAY==day)]\n",
    "    temp_df = pd.merge(yakult, data, how='outer')\n",
    "    temp_df = temp_df[lambda x : (x.지점 == store1)&(x.영업점 == store2)]\n",
    "    temp = temp_df.groupby(['이름'])['ID'].count()\n",
    "    df = pd.DataFrame(temp)\n",
    "    df.columns = ['데이터수']\n",
    "    def zero(x):\n",
    "        if x == 1:\n",
    "            return 0\n",
    "        else:\n",
    "            return x\n",
    "    df['데이터수'] = df['데이터수'].map(zero)\n",
    "    return df"
   ]
  },
  {
   "cell_type": "code",
   "execution_count": 19,
   "metadata": {},
   "outputs": [],
   "source": [
    "def region_graph(out, year, month, day, region1):\n",
    "    temp = out[(out.CITY == region1)&(out.PARTITION_YEAR==year) & (out.PARTITION_MONTH==month) & (out.PARTITION_DAY==day)]\n",
    "    xticks = temp.GUNGU.value_counts().index\n",
    "    plt.figure(figsize = (15,6))\n",
    "    a = temp.GUNGU.value_counts().plot.bar(color='0.5')\n",
    "    sns.despine()\n",
    "    plt.tick_params(labelsize=10) \n",
    "    a.set_xticklabels(xticks,fontproperties=fontprop, fontsize = 15)\n",
    "    plt.xlabel('지역',fontproperties=fontprop)\n",
    "    plt.ylabel('데이터 갯수',fontproperties=fontprop)\n",
    "    plt.title('{}년 {}월 {}일 {} 데이터 갯수'.format(year,month, day, region1),fontproperties=fontprop, fontsize = 20)\n",
    "    plt.grid(False)\n",
    "    plt.show()"
   ]
  },
  {
   "cell_type": "markdown",
   "metadata": {},
   "source": [
    "# T-world"
   ]
  },
  {
   "cell_type": "markdown",
   "metadata": {},
   "source": [
    "## T-world 펌웨어 업데이트 미완료 매장 추정"
   ]
  },
  {
   "cell_type": "markdown",
   "metadata": {},
   "source": [
    "- city(실외데이터)\n",
    "- tworld_toomuch_PM2(실외데이터, 년, 월, 일, '시도', PM2 기준, 해당 기준을 넘는 수치가 측정된 횟수)"
   ]
  },
  {
   "cell_type": "code",
   "execution_count": 20,
   "metadata": {},
   "outputs": [
    {
     "data": {
      "text/plain": [
       "array(['서울특별시', '경기도', '전라북도', '경상남도', '전라남도', '광주광역시', '부산광역시', '강원도',\n",
       "       nan, '대전광역시', '대구광역시', '제주특별자치도', '인천광역시', '경상북도', '충청북도', '충청남도',\n",
       "       '울산광역시'], dtype=object)"
      ]
     },
     "execution_count": 20,
     "metadata": {},
     "output_type": "execute_result"
    }
   ],
   "source": [
    "city(out1105)"
   ]
  },
  {
   "cell_type": "code",
   "execution_count": 21,
   "metadata": {
    "scrolled": true
   },
   "outputs": [
    {
     "data": {
      "text/plain": [
       "Index(['백마장대리점 신림역점', 'PS&M1 대리점 압구정점', '대림대리점 이수역점', '신창대리점 창동역 직영점',\n",
       "       '라온대리점 하단점', '서울직영SHOP 어린이대공원점', '가로수직영SHOP 센트라스점', 'PS&M2 대리점 홍제직영점',\n",
       "       '동진대리점 상암DMC점', 'PS&M2 대리점 상왕십리점', 'MK대리점 마포점', '서울ent대리점 잠실점',\n",
       "       '광장대리점 방배동점', 'PS&M2 대리점 길동역점', 'PS&M2 대리점 성동점', 'PS&M1 대리점 까치산점',\n",
       "       '정원대리점 양재역직영점', 'PS&M2 대리점 미아역점', '정릉대리점 성북구청점', '논현대리점 강남교보점',\n",
       "       'PS&M2 대리점 불광역점', '피앤피대리점 석촌역직영점', 'PS&M2 대리점 구산역점', 'PS&M2 대리점 동대문구청점',\n",
       "       '한유대리점 관악직영점', 'PS&M2 대리점 은평구청직영점', 'PS&M2 대리점 신촌점', 'PS&M2 대리점 종로3가점'],\n",
       "      dtype='object')"
      ]
     },
     "execution_count": 21,
     "metadata": {},
     "output_type": "execute_result"
    }
   ],
   "source": [
    "tworld_toomuch_PM2(out1105, 2018, 11, 5, '서울특별시', 100, 6)"
   ]
  },
  {
   "cell_type": "code",
   "execution_count": 26,
   "metadata": {},
   "outputs": [
    {
     "data": {
      "text/html": [
       "<div>\n",
       "<style>\n",
       "    .dataframe thead tr:only-child th {\n",
       "        text-align: right;\n",
       "    }\n",
       "\n",
       "    .dataframe thead th {\n",
       "        text-align: left;\n",
       "    }\n",
       "\n",
       "    .dataframe tbody tr th {\n",
       "        vertical-align: top;\n",
       "    }\n",
       "</style>\n",
       "<table border=\"1\" class=\"dataframe\">\n",
       "  <thead>\n",
       "    <tr style=\"text-align: right;\">\n",
       "      <th></th>\n",
       "      <th>ID</th>\n",
       "      <th>SENSOR_ID</th>\n",
       "      <th>신매장코드</th>\n",
       "      <th>마케팅본부</th>\n",
       "      <th>마케팅팀</th>\n",
       "      <th>대리점명</th>\n",
       "      <th>매장명</th>\n",
       "      <th>집중 상가\n",
       "유동인구 매장</th>\n",
       "      <th>매장특성구분</th>\n",
       "      <th>시/구</th>\n",
       "      <th>주소</th>\n",
       "      <th>연락처</th>\n",
       "      <th>설치센터</th>\n",
       "      <th>관리번호</th>\n",
       "      <th>설치 구분</th>\n",
       "      <th>비고</th>\n",
       "    </tr>\n",
       "  </thead>\n",
       "  <tbody>\n",
       "    <tr>\n",
       "      <th>6</th>\n",
       "      <td>tworld00420</td>\n",
       "      <td>A4C13860189E</td>\n",
       "      <td>D137420154</td>\n",
       "      <td>수도권마케팅본부</td>\n",
       "      <td>강남마케팅팀</td>\n",
       "      <td>한유대리점</td>\n",
       "      <td>한유대리점 관악직영점</td>\n",
       "      <td>NaN</td>\n",
       "      <td>T Premium Store</td>\n",
       "      <td>서울 관악구</td>\n",
       "      <td>서울 관악구 관악로 196 (봉천동 851-19.정상규안과의원)</td>\n",
       "      <td>02-6460-8799</td>\n",
       "      <td>서비스엔 강서센터</td>\n",
       "      <td>420</td>\n",
       "      <td>설치완료</td>\n",
       "      <td>NaN</td>\n",
       "    </tr>\n",
       "  </tbody>\n",
       "</table>\n",
       "</div>"
      ],
      "text/plain": [
       "            ID     SENSOR_ID       신매장코드     마케팅본부    마케팅팀   대리점명  \\\n",
       "6  tworld00420  A4C13860189E  D137420154  수도권마케팅본부  강남마케팅팀  한유대리점   \n",
       "\n",
       "           매장명 집중 상가\\n유동인구 매장           매장특성구분     시/구  \\\n",
       "6  한유대리점 관악직영점            NaN  T Premium Store  서울 관악구   \n",
       "\n",
       "                                    주소           연락처       설치센터  관리번호 설치 구분  \\\n",
       "6  서울 관악구 관악로 196 (봉천동 851-19.정상규안과의원)  02-6460-8799  서비스엔 강서센터   420  설치완료   \n",
       "\n",
       "    비고  \n",
       "6  NaN  "
      ]
     },
     "execution_count": 26,
     "metadata": {},
     "output_type": "execute_result"
    }
   ],
   "source": [
    "tworld[lambda x : x.매장명.isin(tworld_toomuch_PM2(out1105, 2018, 11, 5, '서울특별시', 100, 6))][:1]"
   ]
  },
  {
   "cell_type": "code",
   "execution_count": 72,
   "metadata": {},
   "outputs": [
    {
     "data": {
      "text/plain": [
       "array(['설치완료', nan, '설치불가'], dtype=object)"
      ]
     },
     "execution_count": 72,
     "metadata": {},
     "output_type": "execute_result"
    }
   ],
   "source": [
    "tworld['설치 구분'].unique()"
   ]
  },
  {
   "cell_type": "markdown",
   "metadata": {},
   "source": [
    "## T-world 데이터 갯수"
   ]
  },
  {
   "cell_type": "markdown",
   "metadata": {},
   "source": [
    "- 24 * 6 = 144 개 -> 144개 이하인 지점 보여줌\n",
    "<br>\n",
    "\n",
    "- daily_tworld_data_count(실외데이터,년,월,일,'시도별')"
   ]
  },
  {
   "cell_type": "code",
   "execution_count": 27,
   "metadata": {},
   "outputs": [
    {
     "data": {
      "text/html": [
       "<div>\n",
       "<style>\n",
       "    .dataframe thead tr:only-child th {\n",
       "        text-align: right;\n",
       "    }\n",
       "\n",
       "    .dataframe thead th {\n",
       "        text-align: left;\n",
       "    }\n",
       "\n",
       "    .dataframe tbody tr th {\n",
       "        vertical-align: top;\n",
       "    }\n",
       "</style>\n",
       "<table border=\"1\" class=\"dataframe\">\n",
       "  <thead>\n",
       "    <tr style=\"text-align: right;\">\n",
       "      <th></th>\n",
       "      <th>데이터수</th>\n",
       "    </tr>\n",
       "  </thead>\n",
       "  <tbody>\n",
       "    <tr>\n",
       "      <th>서울ent대리점 잠실점</th>\n",
       "      <td>143</td>\n",
       "    </tr>\n",
       "  </tbody>\n",
       "</table>\n",
       "</div>"
      ],
      "text/plain": [
       "              데이터수\n",
       "서울ent대리점 잠실점   143"
      ]
     },
     "execution_count": 27,
     "metadata": {},
     "output_type": "execute_result"
    }
   ],
   "source": [
    "daily_tworld_data_count(out1105,2018,11,4,'서울특별시')[:1]"
   ]
  },
  {
   "cell_type": "markdown",
   "metadata": {},
   "source": [
    "# 야쿠르트\n",
    "\n",
    "- 서비스 초반이라 이런 형식으로 어느 정도 관리할 수는 있으나 추후 개발을 통해 대시보드로 관리 or 다른 형식의 지점 관리 프로세스가 필요해 보임\n",
    "- 데이터의 형식이 달라지는 경우가 존재할 수 있으므로 이 파일이 계속해서 유효할 것이라는 것은 어려움"
   ]
  },
  {
   "cell_type": "markdown",
   "metadata": {
    "collapsed": true
   },
   "source": [
    "## 야쿠르트 지점별 실외데이터 갯수\n",
    "- 지점별 일일 실외데이터 갯수 / 코코 갯수 => 코코 1대당 일일 데이터 갯수 시각화\n",
    "<br>\n",
    "<br>\n",
    "- 여사님들 지점 + 개개인마다 근무환경이 매우 다름\n",
    "<br>\n",
    "-> 데이터의 갯수는 매우 상이할 수 밖에 없음\n",
    "<br>\n",
    "-> 따라서 전체평균을 고려 + 어느 정도의 허용범위를 인정해주는 것이 필요\n",
    "<br>\n",
    "<br>\n",
    "- daily_yakult_data_count_average(실외데이터,년,월,일,지점 지역)"
   ]
  },
  {
   "cell_type": "code",
   "execution_count": 36,
   "metadata": {
    "scrolled": true
   },
   "outputs": [
    {
     "data": {
      "text/plain": [
       "array(['강남', '강서', '경원'], dtype=object)"
      ]
     },
     "execution_count": 36,
     "metadata": {},
     "output_type": "execute_result"
    }
   ],
   "source": [
    "store()"
   ]
  },
  {
   "cell_type": "code",
   "execution_count": 31,
   "metadata": {},
   "outputs": [
    {
     "data": {
      "image/png": "[encoded data removed]",
      "text/plain": [
       "<Figure size 1080x432 with 1 Axes>"
      ]
     },
     "metadata": {
      "image/png": {
       "height": 428,
       "width": 965
      },
      "needs_background": "light"
     },
     "output_type": "display_data"
    }
   ],
   "source": [
    "daily_yakult_data_count_average(out1022,2018,10,20,'강서')"
   ]
  },
  {
   "cell_type": "code",
   "execution_count": 34,
   "metadata": {},
   "outputs": [
    {
     "data": {
      "image/png": "[encoded data removed]",
      "text/plain": [
       "<Figure size 1080x432 with 1 Axes>"
      ]
     },
     "metadata": {
      "image/png": {
       "height": 428,
       "width": 973
      },
      "needs_background": "light"
     },
     "output_type": "display_data"
    }
   ],
   "source": [
    "daily_yakult_data_count_average(out1105,2018,11,5,'강서')"
   ]
  },
  {
   "cell_type": "markdown",
   "metadata": {},
   "source": [
    "## 영업점별 여사님 데이터 카운트"
   ]
  },
  {
   "cell_type": "markdown",
   "metadata": {},
   "source": [
    "- daily_yakult_data_count_airbee1(실외데이터,년,월,일,'지점지역')\n",
    "<br>\n",
    "- daily_yakult_data_count_airbee2(실외데이터,년,월,일,'지점지역','영업점')"
   ]
  },
  {
   "cell_type": "code",
   "execution_count": 22,
   "metadata": {},
   "outputs": [
    {
     "data": {
      "text/plain": [
       "array(['강남', '강서', '경원'], dtype=object)"
      ]
     },
     "execution_count": 22,
     "metadata": {},
     "output_type": "execute_result"
    }
   ],
   "source": [
    "store()"
   ]
  },
  {
   "cell_type": "code",
   "execution_count": 28,
   "metadata": {},
   "outputs": [
    {
     "data": {
      "text/html": [
       "<div>\n",
       "<style>\n",
       "    .dataframe thead tr:only-child th {\n",
       "        text-align: right;\n",
       "    }\n",
       "\n",
       "    .dataframe thead th {\n",
       "        text-align: left;\n",
       "    }\n",
       "\n",
       "    .dataframe tbody tr th {\n",
       "        vertical-align: top;\n",
       "    }\n",
       "</style>\n",
       "<table border=\"1\" class=\"dataframe\">\n",
       "  <thead>\n",
       "    <tr style=\"text-align: right;\">\n",
       "      <th></th>\n",
       "      <th></th>\n",
       "      <th>데이터수</th>\n",
       "    </tr>\n",
       "    <tr>\n",
       "      <th>영업점</th>\n",
       "      <th>이름</th>\n",
       "      <th></th>\n",
       "    </tr>\n",
       "  </thead>\n",
       "  <tbody>\n",
       "    <tr>\n",
       "      <th>강남</th>\n",
       "      <th>강성숙</th>\n",
       "      <td>0</td>\n",
       "    </tr>\n",
       "  </tbody>\n",
       "</table>\n",
       "</div>"
      ],
      "text/plain": [
       "         데이터수\n",
       "영업점 이름       \n",
       "강남  강성숙     0"
      ]
     },
     "execution_count": 28,
     "metadata": {},
     "output_type": "execute_result"
    }
   ],
   "source": [
    "daily_yakult_data_count_airbee1(out1105, 2018, 11, 5, '강남')[:1]"
   ]
  },
  {
   "cell_type": "code",
   "execution_count": 29,
   "metadata": {
    "scrolled": true
   },
   "outputs": [
    {
     "data": {
      "text/html": [
       "<div>\n",
       "<style>\n",
       "    .dataframe thead tr:only-child th {\n",
       "        text-align: right;\n",
       "    }\n",
       "\n",
       "    .dataframe thead th {\n",
       "        text-align: left;\n",
       "    }\n",
       "\n",
       "    .dataframe tbody tr th {\n",
       "        vertical-align: top;\n",
       "    }\n",
       "</style>\n",
       "<table border=\"1\" class=\"dataframe\">\n",
       "  <thead>\n",
       "    <tr style=\"text-align: right;\">\n",
       "      <th></th>\n",
       "      <th>데이터수</th>\n",
       "    </tr>\n",
       "    <tr>\n",
       "      <th>이름</th>\n",
       "      <th></th>\n",
       "    </tr>\n",
       "  </thead>\n",
       "  <tbody>\n",
       "    <tr>\n",
       "      <th>강옥순</th>\n",
       "      <td>17</td>\n",
       "    </tr>\n",
       "  </tbody>\n",
       "</table>\n",
       "</div>"
      ],
      "text/plain": [
       "     데이터수\n",
       "이름       \n",
       "강옥순    17"
      ]
     },
     "execution_count": 29,
     "metadata": {},
     "output_type": "execute_result"
    }
   ],
   "source": [
    "daily_yakult_data_count_airbee2(out1105, 2018, 11, 5, '강남', '매봉')[:1]"
   ]
  },
  {
   "cell_type": "markdown",
   "metadata": {
    "collapsed": true
   },
   "source": [
    "## 지역별 데이터 갯수\n",
    "- 부족한 지역을 파악하여 보완\n",
    "- 지역별 밸런스 고려\n",
    "<br>\n",
    "\n",
    "- city(실외데이터)\n",
    "- region_graph(실외데이터,년,월,일,'시도별')"
   ]
  },
  {
   "cell_type": "code",
   "execution_count": 92,
   "metadata": {},
   "outputs": [],
   "source": [
    "def city(out):\n",
    "    return out.CITY.unique()"
   ]
  },
  {
   "cell_type": "code",
   "execution_count": 94,
   "metadata": {},
   "outputs": [
    {
     "data": {
      "image/png": "[encoded data removed]",
      "text/plain": [
       "<Figure size 1080x432 with 1 Axes>"
      ]
     },
     "metadata": {
      "image/png": {
       "height": 423,
       "width": 902
      },
      "needs_background": "light"
     },
     "output_type": "display_data"
    }
   ],
   "source": [
    "region_graph(out1105,2018,11,5,'서울특별시')"
   ]
  }
 ],
 "metadata": {
  "kernelspec": {
   "display_name": "Python 3",
   "language": "python",
   "name": "python3"
  },
  "language_info": {
   "codemirror_mode": {
    "name": "ipython",
    "version": 3
   },
   "file_extension": ".py",
   "mimetype": "text/x-python",
   "name": "python",
   "nbconvert_exporter": "python",
   "pygments_lexer": "ipython3",
   "version": "3.6.3"
  }
 },
 "nbformat": 4,
 "nbformat_minor": 2
}
